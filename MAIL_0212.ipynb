{
 "cells": [
  {
   "cell_type": "code",
   "execution_count": 1,
   "metadata": {},
   "outputs": [],
   "source": [
    "fromaddr = \"pythonNdongkyu@gmail.com\"\n",
    "password = \"your_password\"\n",
    "toaddr = \"ydk91118@naver.com\"\n",
    "\n",
    "# config.py (저장 후 사용)"
   ]
  },
  {
   "cell_type": "code",
   "execution_count": 10,
   "metadata": {},
   "outputs": [
    {
     "data": {
      "text/plain": [
       "0.1537344431654586"
      ]
     },
     "execution_count": 10,
     "metadata": {},
     "output_type": "execute_result"
    }
   ],
   "source": [
    "import random\n",
    "random.random()"
   ]
  },
  {
   "cell_type": "code",
   "execution_count": 13,
   "metadata": {},
   "outputs": [
    {
     "data": {
      "text/plain": [
       "range(1, 7)"
      ]
     },
     "execution_count": 13,
     "metadata": {},
     "output_type": "execute_result"
    }
   ],
   "source": [
    "range(1,7)"
   ]
  },
  {
   "cell_type": "code",
   "execution_count": 14,
   "metadata": {},
   "outputs": [
    {
     "data": {
      "text/plain": [
       "5"
      ]
     },
     "execution_count": 14,
     "metadata": {},
     "output_type": "execute_result"
    }
   ],
   "source": [
    "random.randrange(1,7)"
   ]
  },
  {
   "cell_type": "code",
   "execution_count": 15,
   "metadata": {},
   "outputs": [
    {
     "data": {
      "text/plain": [
       "'e'"
      ]
     },
     "execution_count": 15,
     "metadata": {},
     "output_type": "execute_result"
    }
   ],
   "source": [
    "set = ['a', 'b', 'c', 'd', 'e']\n",
    "random.choice(set)"
   ]
  },
  {
   "cell_type": "code",
   "execution_count": 4,
   "metadata": {},
   "outputs": [
    {
     "data": {
      "text/plain": [
       "(221, b'2.0.0 closing connection t65sm19113804pfi.117 - gsmtp')"
      ]
     },
     "execution_count": 4,
     "metadata": {},
     "output_type": "execute_result"
    }
   ],
   "source": [
    "import smtplib \n",
    "import config\n",
    "\n",
    "# SMTP 서버 구축 (server 객체)\n",
    "# gmail은 STARTTLS와 포트587 사용\n",
    "server = smtplib.SMTP('smtp.gmail.com', 587)\n",
    "server.starttls()\n",
    "\n",
    "# gmail 로그인\n",
    "server.login(config.fromaddr, config.password) # gmail 로그인\n",
    "\n",
    "# 메일 보내기 (sendmail 메소드 이용)\n",
    "msg = \"some nice msg\"\n",
    "server.sendmail(config.fromaddr, config.toaddr, msg) # 메일 보내기\n",
    "\n",
    "server.quit() # SMTP 세션 종료"
   ]
  },
  {
   "cell_type": "code",
   "execution_count": 6,
   "metadata": {},
   "outputs": [
    {
     "data": {
      "text/plain": [
       "(221, b'2.0.0 closing connection v13sm12380700pff.20 - gsmtp')"
      ]
     },
     "execution_count": 6,
     "metadata": {},
     "output_type": "execute_result"
    }
   ],
   "source": [
    "import smtplib\n",
    "import config\n",
    "\n",
    "from email.mime.multipart import MIMEMultipart\n",
    "from email.mime.text import MIMEText\n",
    "from email.mime.base import MIMEBase\n",
    "from email import encoders\n",
    "\n",
    "\n",
    "fromaddr = config.fromaddr\n",
    "toaddr = config.toaddr\n",
    "\n",
    "# MIME 메시지 객체 생성 (msg)\n",
    "msg = MIMEMultipart()\n",
    "msg['From'] = fromaddr\n",
    "msg['To'] = toaddr\n",
    "msg['Subject'] = \"Email with an attachment\"\n",
    "body = \"Click to open the attachment\"\n",
    "msg.attach(MIMEText(body, 'plain')) # attach( ) 메소드를 사용하여 str 객체 추가 \n",
    "\n",
    "# 첨부파일 불러들이기\n",
    "filename = \"attach.txt\"\n",
    "attachment = open(filename, \"rb\")\n",
    "\n",
    "# 파일 첨부를 위해서 MIMEBase 객체인 part를 base64로 인코딩하고,\n",
    "# Content-Disposition 헤더를 추가.\n",
    "part = MIMEBase('application', 'octet-stream') # part 생성 (MIMEBase 객체)\n",
    "part.set_payload((attachment).read()) # payload로 파일의 콘텐츠를 객체에 할당\n",
    "encoders.encode_base64(part)\n",
    "part.add_header('Content-Disposition', \"attachment; filename = %s\" %filename)\n",
    "\n",
    "msg.attach(part)\n",
    "\n",
    "# 메일 전송하기\n",
    "server = smtplib.SMTP('smtp.gmail.com', 587)\n",
    "server.starttls()\n",
    "server.login(fromaddr, config.password)\n",
    "\n",
    "text = msg.as_string()\n",
    "server.sendmail(fromaddr, toaddr, text)\n",
    "\n",
    "server.quit()"
   ]
  },
  {
   "cell_type": "code",
   "execution_count": 21,
   "metadata": {},
   "outputs": [
    {
     "name": "stdout",
     "output_type": "stream",
     "text": [
      "Inbox:  <imaplib.IMAP4_SSL object at 0x000000000808C400>\n"
     ]
    },
    {
     "data": {
      "text/plain": [
       "('BYE', [b'Logging out'])"
      ]
     },
     "execution_count": 21,
     "metadata": {},
     "output_type": "execute_result"
    }
   ],
   "source": [
    "import config, imaplib\n",
    "\n",
    "M = imaplib.IMAP4_SSL(\"imap.naver.com\", 993)\n",
    "M.login(config.fromaddr, password)\n",
    "\n",
    "## 기본메일함\n",
    "print(\"Inbox: \", M)\n",
    "\n",
    "## 메일함이 여러개일 경우\n",
    "#print M.list()\n",
    "#M.select('INBOX')\n",
    "\n",
    "M.logout()"
   ]
  },
  {
   "cell_type": "code",
   "execution_count": null,
   "metadata": {},
   "outputs": [],
   "source": [
    "import config, imaplib\n",
    "\n",
    "M = imaplib.IMAP4_SSL(\"imap.naver.com\", 993)\n",
    "M.login(config.toaddr, \"econgraD1818!\")\n",
    "\n",
    "M.select(\"INBOX\")\n",
    "\n",
    "typ, data = M.search(None, 'SUBJECT', \"Email with an attachment\")\n",
    "typs, msg = M.fetch(data[0].split()[-1], '(RFC822)')\n",
    "print(\"Message is \", msg[0][1])\n",
    "M.close()\n",
    "\n",
    "M.logout()\n",
    "\n",
    "# 위의 파일을 inbox_search.py로 저장하고 다음의 커맨드를 실행한다\n",
    "# cmd:python inbox_search.py"
   ]
  },
  {
   "cell_type": "code",
   "execution_count": null,
   "metadata": {},
   "outputs": [],
   "source": [
    "import config, imaplib\n",
    "\n",
    "# IMAP 유형의 객체 ‘M’ 생성 (지메일은 SSL 암호화 사용)\n",
    "M = imaplib.IMAP4_SSL(\"imap.gmail.com\", 993)\n",
    "M.login(config.fromaddr, config.password)\n",
    "\n",
    "## 기본메일함\n",
    "print \"Inbox:\" , M # M은 자동적으로 기본메일함 객체가 된다\n",
    "\n",
    "## 메일함이 여러개일 경우\n",
    "#print M.list()\n",
    "#M.select('INBOX')\n",
    "\n",
    "# 제목(SUBJECT)이 ‘Email with an attachment’인 메일 검색\n",
    "typ, data = M.search(None, 'SUBJECT', \"Email with an attachment\")\n",
    "\n",
    "# M.fetch() 메소드로 검색된 메일 읽기 (RFC 882 형식의 이메일)\n",
    "typs, msg = M..fetch(data[0].split()[-1], '(RFC822)')\n",
    "print \"Message is \", msg[0][1]\n",
    "M.close()\n",
    "\n",
    "M.logout()\n",
    "\n",
    "# 위의 파일을 inbox_search.py로 저장하고 다음의 커맨드를 실행한다\n",
    "# cmd:python inbox_search.py"
   ]
  },
  {
   "cell_type": "code",
   "execution_count": null,
   "metadata": {},
   "outputs": [],
   "source": [
    "### 메일 자동응답기\n",
    "\n",
    "from email.mime.multipart import MIMEMultipart\n",
    "from email.mime.text import MIMEText\n",
    "from email.mime.base import MIMEBase\n",
    "import config, time\n",
    "import gmail \n",
    "\n",
    "def send_email(strTo):\n",
    "    strFrom = config.fromaddr\n",
    "    msgRoot = MIMEMultipart('related')\n",
    "    msgRoot =['Subject'] = 'Thanks for yout ticket'\n",
    "    msgRoot =['From'] = strFrom\n",
    "    msgRoot =['To'] = strTo\n",
    "    \n",
    "msgRoot.preamble = 'This is muli-part message in MIME format.'\n",
    "msgAlternative = MIMEMultipart('alternative')\n",
    "msgRoot.attach(msgAlternative)\n",
    "msgText = MIMEText('This is alternative plain text message.')\n",
    "msgAlternative.attach(msgText)\n",
    "msgText = MIMEText('Hi there, <br><br>Thanks for querying.'\n",
    "                   'We shall get back to you soon.<br><br>'\n",
    "                   'Thanks<br>Support Team<br><img src=\"cid:image1\">', 'html')\n",
    "msgAlternative.attach(msgText)\n",
    "\n",
    "fp = open('google.png', 'rb')\n",
    "msgImage = MIMEImage(fp.read())\n",
    "fp.close()\n",
    "msgImage.add_header('Content-ID', '<image1>')\n",
    "msgRoot.attach(msgImage)\n",
    "\n",
    "import smtplib\n",
    "server = smtplib.SMTP('smtp.gmail.com', 587)\n",
    "server.starttls()\n",
    "server.login(config.fromaddr, config.password)\n",
    "server.sendmail(config.fromaddr, config.toaddr, msgRoot.as_string())\n",
    "server.quit()\n",
    "\n",
    "while True:\n",
    "    g = gmial.login(config.fromaddr, config.password)\n",
    "    \n",
    "    mails = g.inbox().mail(unread=True)\n",
    "    mails[-1].fetch()\n",
    "    from_ = mails[-1].fr\n",
    "    \n",
    "    send.email(from_)\n",
    "    \n",
    "    time.sleep(60)"
   ]
  }
 ],
 "metadata": {
  "kernelspec": {
   "display_name": "Python 3",
   "language": "python",
   "name": "python3"
  },
  "language_info": {
   "codemirror_mode": {
    "name": "ipython",
    "version": 3
   },
   "file_extension": ".py",
   "mimetype": "text/x-python",
   "name": "python",
   "nbconvert_exporter": "python",
   "pygments_lexer": "ipython3",
   "version": "3.7.1"
  }
 },
 "nbformat": 4,
 "nbformat_minor": 2
}
